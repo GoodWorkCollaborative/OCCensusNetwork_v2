{
 "cells": [
  {
   "cell_type": "code",
   "execution_count": 1,
   "id": "f9f601c2",
   "metadata": {},
   "outputs": [
    {
     "ename": "ModuleNotFoundError",
     "evalue": "No module named 'geopandas'",
     "output_type": "error",
     "traceback": [
      "\u001b[1;31m---------------------------------------------------------------------------\u001b[0m",
      "\u001b[1;31mModuleNotFoundError\u001b[0m                       Traceback (most recent call last)",
      "Input \u001b[1;32mIn [1]\u001b[0m, in \u001b[0;36m<cell line: 4>\u001b[1;34m()\u001b[0m\n\u001b[0;32m      2\u001b[0m \u001b[38;5;28;01mimport\u001b[39;00m \u001b[38;5;21;01mnumpy\u001b[39;00m \u001b[38;5;28;01mas\u001b[39;00m \u001b[38;5;21;01mnp\u001b[39;00m\n\u001b[0;32m      3\u001b[0m \u001b[38;5;28;01mimport\u001b[39;00m \u001b[38;5;21;01mpandas\u001b[39;00m \u001b[38;5;28;01mas\u001b[39;00m \u001b[38;5;21;01mpd\u001b[39;00m\n\u001b[1;32m----> 4\u001b[0m \u001b[38;5;28;01mimport\u001b[39;00m \u001b[38;5;21;01mgeopandas\u001b[39;00m \u001b[38;5;28;01mas\u001b[39;00m \u001b[38;5;21;01mgpd\u001b[39;00m\n\u001b[0;32m      6\u001b[0m \u001b[38;5;66;03m#import dashboarding libraries\u001b[39;00m\n\u001b[0;32m      7\u001b[0m \u001b[38;5;28;01mimport\u001b[39;00m \u001b[38;5;21;01mpanel\u001b[39;00m \u001b[38;5;28;01mas\u001b[39;00m \u001b[38;5;21;01mpn\u001b[39;00m\n",
      "\u001b[1;31mModuleNotFoundError\u001b[0m: No module named 'geopandas'"
     ]
    }
   ],
   "source": [
    "#import base libraries\n",
    "import numpy as np\n",
    "import pandas as pd\n",
    "import geopandas as gpd\n",
    "\n",
    "#import dashboarding libraries\n",
    "import panel as pn\n",
    "pn.extension('tabulator')\n",
    "import geoviews.tile_sources as gvts\n",
    "import holoviews as hv\n",
    "import hvplot.pandas\n",
    "from holoviews import opts\n",
    "from holoviews.plotting.links import DataLink"
   ]
  },
  {
   "cell_type": "code",
   "execution_count": null,
   "id": "5bdcc15b",
   "metadata": {},
   "outputs": [],
   "source": [
    "#reading in Charitable Ventures data - edited spreadsheet and city boundaries\n",
    "CVsword = pd.read_csv(\"data/CV_CITY_CBO_KC_02.27.22.csv\", encoding= 'unicode_escape')\n",
    "cities = gpd.read_file(\"data/City_Boundaries.geojson\")"
   ]
  },
  {
   "cell_type": "code",
   "execution_count": null,
   "id": "5d7b71d6",
   "metadata": {},
   "outputs": [],
   "source": [
    "pd.set_option(\"display.max_columns\",None) #expands number of viewable columns\n",
    "CVsword = CVsword.fillna(0) #replaces NaNs with 0s to preserve all rows"
   ]
  },
  {
   "cell_type": "code",
   "execution_count": null,
   "id": "214fffdf",
   "metadata": {},
   "outputs": [],
   "source": [
    "#define projection as CRS EPSG:6426 for CA zone 6\n",
    "cities = cities.to_crs(epsg=6426)\n",
    "cities = cities.drop(['JURISDICTI','Acres','Area_SqMi','OCSurveyDBOCityBoundariesArea'],axis=1) #drop extra columns"
   ]
  },
  {
   "cell_type": "code",
   "execution_count": null,
   "id": "d259c3ff",
   "metadata": {},
   "outputs": [],
   "source": [
    "#make join columns match\n",
    "city_data = CVsword.rename(columns={'City':'CITY'})\n",
    "\n",
    "#make join values match\n",
    "city_data['CITY'] = city_data['CITY'].str.capitalize()\n",
    "cities['CITY'] = cities['CITY'].str.capitalize()"
   ]
  },
  {
   "cell_type": "code",
   "execution_count": null,
   "id": "c75ae151",
   "metadata": {},
   "outputs": [],
   "source": [
    "city_data.head()"
   ]
  },
  {
   "cell_type": "code",
   "execution_count": null,
   "id": "cae0132f",
   "metadata": {},
   "outputs": [],
   "source": [
    "#join to city boundaries\n",
    "city_data_joined = cities.merge(city_data, on='CITY', how='left').fillna(0)\n",
    "\n",
    "#project\n",
    "city_data_joined=gpd.GeoDataFrame(city_data_joined, geometry='geometry')\n",
    "city_data_joined=city_data_joined.to_crs(epsg=6426)"
   ]
  },
  {
   "cell_type": "code",
   "execution_count": null,
   "id": "6a27af23",
   "metadata": {
    "scrolled": true
   },
   "outputs": [],
   "source": [
    "#isolating unincorporated rows to better generate unique city name list below\n",
    "city_data_joined_Unincorporateds = city_data_joined.loc[city_data_joined['CITY']=='Unincorporated']\n",
    "city_data_joined_incorporateds = city_data_joined.loc[city_data_joined['CITY']!='Unincorporated']\n",
    "\n",
    "city_data_joined_incorporateds = city_data_joined_incorporateds.drop_duplicates(subset=['CITY'], keep='first')\n",
    "city_data_joined = pd.concat([city_data_joined_incorporateds,city_data_joined_Unincorporateds])"
   ]
  },
  {
   "cell_type": "code",
   "execution_count": null,
   "id": "452300e6",
   "metadata": {
    "scrolled": true
   },
   "outputs": [],
   "source": [
    "#read in cbo data in long form\n",
    "CBO_data = pd.read_csv(\"data/CV_CITY_CBO_KC_2022feb27_long.csv\", encoding = 'unicode_escape')\n",
    "#drop unwanted columns by name\n",
    "CBO_data = CBO_data.drop(['cbo_string','cbo_count'], axis=1)\n",
    "#drop first unnamed column\n",
    "CBO_data = CBO_data.iloc[:,1:]\n",
    "#group by city column\n",
    "CBOcount_byCity = CBO_data.groupby(['City']).count().reset_index()\n",
    "#make join columns and values match\n",
    "CBOcount_byCity = CBOcount_byCity.rename(columns={'City':'CITY'})\n",
    "CBOcount_byCity['CITY'] = CBOcount_byCity['CITY'].str.capitalize()\n",
    "#add column of cbo list\n",
    "CBOcount_byCity = CBOcount_byCity.merge(city_data, on='CITY').rename(columns={'cbo_name_x':'Organizations', 'cbo_name_y':'cbo_names'})\n",
    "#join to geometries\n",
    "CBOcount_geo = cities.merge(CBOcount_byCity, on='CITY', how='left').fillna(0)\n",
    "#drop unincorporated territories\n",
    "CBOcount_geo = CBOcount_geo.loc[CBOcount_geo['CITY']!='Unincorporated']"
   ]
  },
  {
   "cell_type": "code",
   "execution_count": null,
   "id": "5ec15d15",
   "metadata": {},
   "outputs": [],
   "source": [
    "#make table for map\n",
    "#rename column\n",
    "CBOcount_geo=CBOcount_geo.rename(columns={'CITY':'City'})\n",
    "citiesList = CBOcount_geo['City'].to_numpy()\n",
    "cboList = CBOcount_geo['Organizations'].to_numpy()\n",
    "\n",
    "table = hv.Table({'City':citiesList, 'CBO':cboList},\n",
    "                ['City','CBO'])"
   ]
  },
  {
   "cell_type": "code",
   "execution_count": null,
   "id": "5e47aab3",
   "metadata": {},
   "outputs": [],
   "source": [
    "#make map\n",
    "map00 = CBOcount_geo.hvplot(\n",
    "c='Organizations',\n",
    "frame_width=500,\n",
    "frame_height=400,\n",
    "dynamic=True,\n",
    "geo=True,\n",
    "crs=6426,\n",
    "hover_cols=['City'],\n",
    "cmap='Blues',\n",
    "line_color='gray',\n",
    "title='Number of Organizations by City')\n",
    "\n",
    "basemap = gvts.CartoLight.opts(alpha=0.6)\n",
    "\n",
    "map01=basemap*map00.opts(xaxis=None, yaxis=None)"
   ]
  },
  {
   "cell_type": "code",
   "execution_count": null,
   "id": "e37c6489",
   "metadata": {},
   "outputs": [],
   "source": [
    "#data processing for org table\n",
    "CVactivities= pd.read_csv(\"data/CVActivities_KC_02.26.22.csv\", encoding= 'unicode_escape')\n",
    "CVactivities = CVactivities.fillna(\"No Data\")"
   ]
  },
  {
   "cell_type": "code",
   "execution_count": null,
   "id": "055314ce",
   "metadata": {
    "scrolled": true
   },
   "outputs": [],
   "source": [
    "#convert to df\n",
    "CVactivities = pd.DataFrame(CVactivities)"
   ]
  },
  {
   "cell_type": "code",
   "execution_count": null,
   "id": "93eb89ad",
   "metadata": {},
   "outputs": [],
   "source": [
    "#Table adjustments\n",
    "#column names\n",
    "CVactivities = CVactivities.rename(columns={'cbo_name':'Organization Name', 'activities':'Activities','HTC':'HTC Characteristic'})\n",
    "#capitalize values\n",
    "CVactivities['Language'] = CVactivities['Language'].str.title()\n",
    "CVactivities['City'] = CVactivities['City'].str.title()"
   ]
  },
  {
   "cell_type": "code",
   "execution_count": null,
   "id": "1e41cb3a",
   "metadata": {},
   "outputs": [],
   "source": [
    "#reading in csv with full HTC characteristics\n",
    "fullHTCs = pd.read_csv('data/CVActivities_2022jan31_htc_categories_jm.csv')\n",
    "#convert to df\n",
    "fullHTC_df = pd.DataFrame(fullHTCs)\n",
    "fullHTC_df = fullHTC_df[['cbo_name','htc_category','city_extracted']]\n",
    "fullHTC_df = fullHTC_df.fillna(\"No Data\")\n",
    "fullHTC_df"
   ]
  },
  {
   "cell_type": "code",
   "execution_count": null,
   "id": "2a24a03d",
   "metadata": {},
   "outputs": [],
   "source": [
    "#generate list of just HTCs\n",
    "allHTCs = ['born outside of the U.S.',\n",
    "'children under 5',\n",
    "'farmworker',\n",
    "'houseless',\n",
    "'immigrant / refugee',\n",
    "'LGBTQ+',\n",
    "'limited English speaking ability',\n",
    "'low broadband subscription rate',\n",
    "'older adult / senior',\n",
    "'disabled',\n",
    "'veteran'\n",
    "]\n",
    "\n",
    "allHTC_df = fullHTC_df.loc[fullHTC_df['htc_category'].isin(allHTCs)]\n",
    "\n",
    "#first group by unique values, using x as dummy var to maintain df properties\n",
    "fullHTC_byUniqueCBO = allHTC_df.groupby(['cbo_name', 'htc_category']).apply(list).reset_index(name='x')\n",
    "uniqueHTC_byUniqueCBO = fullHTC_byUniqueCBO[['cbo_name','htc_category']] \n",
    "\n",
    "#then group by cbo name - using lambda to convert to concatenated string instead of list\n",
    "uniqueHTC_byUniqueCBO = fullHTC_byUniqueCBO.groupby(['cbo_name'])['htc_category'].apply(lambda x: ','.join(x)).reset_index(name='HTC Characteristic')\n",
    "uniqueHTC_byUniqueCBO = uniqueHTC_byUniqueCBO.fillna(\"No Data\")\n",
    "uniqueHTC_byUniqueCBO.head()"
   ]
  },
  {
   "cell_type": "code",
   "execution_count": null,
   "id": "f17c898b",
   "metadata": {},
   "outputs": [],
   "source": [
    "#repeat for race/ethnic groups\n",
    "allREs = ['Asian American & Pacific Islander (AAPI)',\n",
    "'Black & African American',\n",
    "'Latino/a/e',\n",
    "'Middle Eastern & North African (MENA)',\n",
    "'Native American & Tribal Communities'\n",
    "]\n",
    "\n",
    "allRE_df = fullHTC_df.loc[fullHTC_df['htc_category'].isin(allREs)]\n",
    "\n",
    "#first group by unique values, using x as dummy var to maintain df properties\n",
    "allRE_byUniqueCBO = allRE_df.groupby(['cbo_name', 'htc_category']).apply(list).reset_index(name='x')\n",
    "uniqueRE_byUniqueCBO = allRE_byUniqueCBO[['cbo_name','htc_category']] \n",
    "\n",
    "#then group by cbo name - using lambda to convert to concatenated string instead of list\n",
    "uniqueRE_byUniqueCBO = allRE_byUniqueCBO.groupby(['cbo_name'])['htc_category'].apply(lambda x: ','.join(x)).reset_index(name='Race/Ethnic Group')\n",
    "uniqueRE_byUniqueCBO = uniqueRE_byUniqueCBO.fillna(\"No Data\")\n",
    "uniqueRE_byUniqueCBO.head()"
   ]
  },
  {
   "cell_type": "code",
   "execution_count": null,
   "id": "9895a0fc",
   "metadata": {},
   "outputs": [],
   "source": [
    "# add to main table \n",
    "#remove old HTCs\n",
    "CVactivities = CVactivities[['Organization Name','City','Language','Activities']]\n",
    "\n",
    "#make column names match\n",
    "uniqueHTC_byUniqueCBO = uniqueHTC_byUniqueCBO.rename(columns={'cbo_name':'Organization Name'})\n",
    "uniqueRE_byUniqueCBO = uniqueRE_byUniqueCBO.rename(columns={'cbo_name':'Organization Name'})\n",
    "#join\n",
    "CVactivities = CVactivities.merge(uniqueHTC_byUniqueCBO, on='Organization Name', how='left')\n",
    "CVactivities = CVactivities.merge(uniqueRE_byUniqueCBO, on='Organization Name', how='left')\n",
    "#replace Nans\n",
    "CVactivities = CVactivities.fillna(\"No Data\")\n",
    "#readjust column order\n",
    "#adjust column order\n",
    "colOrder = ['Organization Name',\n",
    "            'City',\n",
    "            'Race/Ethnic Group',\n",
    "            'Language',\n",
    "            'HTC Characteristic',\n",
    "            'Activities']\n",
    "CVactivities = CVactivities[colOrder]\n",
    "CVactivities"
   ]
  },
  {
   "cell_type": "code",
   "execution_count": null,
   "id": "69ddafeb",
   "metadata": {
    "scrolled": true
   },
   "outputs": [],
   "source": [
    "filter_table=pn.widgets.Tabulator(CVactivities, \n",
    "                                  layout='fit_columns',\n",
    "                                  pagination='remote',\n",
    "                                  page_size=11,\n",
    "                                  width=1200)"
   ]
  },
  {
   "cell_type": "code",
   "execution_count": null,
   "id": "026d889f",
   "metadata": {},
   "outputs": [],
   "source": [
    "#create city widget\n",
    "cityNames_list = city_data_joined['CITY'].unique()\n",
    "cityNames_arr = np.asarray(cityNames_list).astype('str')\n",
    "cityNames = sorted(np.char.title(cityNames_arr).astype('O').tolist())\n",
    "\n",
    "citySelect=pn.widgets.MultiSelect(options=cityNames, name='City Filter', height=300, )\n",
    "filter_table.add_filter(citySelect, 'City')\n",
    "\n",
    "#create file name box and download button\n",
    "filename, button = filter_table.download_menu(\n",
    "    text_kwargs={'name':'Enter filename', 'value':'OC_2020_Census_Activities.csv'},\n",
    "    button_kwargs={'name':'Download table'}\n",
    ")"
   ]
  },
  {
   "cell_type": "code",
   "execution_count": null,
   "id": "86670704",
   "metadata": {
    "scrolled": true
   },
   "outputs": [],
   "source": [
    "#create language widget\n",
    "CVactivities_long = pd.read_csv(\"data/CVActivities_KC_2022feb22_long.csv\")\n",
    "language_list = CVactivities_long['language'].unique()\n",
    "language_arr = np.asarray(language_list).astype('str')\n",
    "languages = sorted(np.char.title(language_arr).astype('O').tolist())\n",
    "\n",
    "langSelect=pn.widgets.MultiSelect(options=languages, name='Language Filter', height=300)\n",
    "filter_table.add_filter(langSelect, 'Language')"
   ]
  },
  {
   "cell_type": "code",
   "execution_count": null,
   "id": "eb2bf097",
   "metadata": {},
   "outputs": [],
   "source": [
    "#creating type widgets\n",
    "city_filter = pn.widgets.TextInput(name='Search by City Name', value='', width=200)\n",
    "HTC_filter = pn.widgets.TextInput(name='Search by \"Hard-to-Count\" (HTC) Characteristic (copy from the list below)', value='', width=400)\n",
    "RE_filter = pn.widgets.TextInput(name='Search by \"Race/Ethnic Group (copy from the list below)', value='', width=330)\n",
    "lang_filter = pn.widgets.TextInput(name='Search by Language', value='', width=200)\n",
    "\n",
    "def contains_filter(df, pattern, column):\n",
    "    if not pattern:\n",
    "        return df\n",
    "    return df[df[column].str.contains(pattern, na=False)]\n",
    "    \n",
    "filter_table.add_filter(pn.bind(contains_filter, pattern=city_filter, column='City'))\n",
    "filter_table.add_filter(pn.bind(contains_filter, pattern=HTC_filter, column='HTC Characteristic'))\n",
    "filter_table.add_filter(pn.bind(contains_filter, pattern=RE_filter, column='Race/Ethnic Group'))\n",
    "filter_table.add_filter(pn.bind(contains_filter, pattern=lang_filter, column='Language'))"
   ]
  },
  {
   "cell_type": "code",
   "execution_count": null,
   "id": "fc43ca8e",
   "metadata": {},
   "outputs": [],
   "source": [
    "with open('TITLE_ABOUT.md','r') as file:\n",
    "    title = file.read()\n",
    "    print(title)\n",
    "    file.close()"
   ]
  },
  {
   "cell_type": "code",
   "execution_count": null,
   "id": "4f93b371",
   "metadata": {},
   "outputs": [],
   "source": [
    "with open('RE.md','r') as file:\n",
    "    REtext = file.read()\n",
    "    print(REtext)\n",
    "    file.close()"
   ]
  },
  {
   "cell_type": "code",
   "execution_count": null,
   "id": "cdf2ec5a",
   "metadata": {},
   "outputs": [],
   "source": [
    "with open('HTC.md','r') as file:\n",
    "    HTCtext = file.read()\n",
    "    print(HTCtext)\n",
    "    file.close()"
   ]
  },
  {
   "cell_type": "code",
   "execution_count": null,
   "id": "b314bc0f",
   "metadata": {},
   "outputs": [],
   "source": [
    "with open('HTC2.md','r') as file:\n",
    "    HTCtext2 = file.read()\n",
    "    print(HTCtext2)\n",
    "    file.close()"
   ]
  },
  {
   "cell_type": "code",
   "execution_count": null,
   "id": "612dbc3f",
   "metadata": {},
   "outputs": [],
   "source": [
    "with open('MAP.md','r') as file:\n",
    "    mapText = file.read()\n",
    "    print(mapText)\n",
    "    file.close()"
   ]
  },
  {
   "cell_type": "code",
   "execution_count": null,
   "id": "c644c735",
   "metadata": {},
   "outputs": [],
   "source": [
    "with open('ORG_DETAILS.md','r') as file:\n",
    "    orgDetailsText = file.read()\n",
    "    print(orgDetailsText)\n",
    "    file.close()"
   ]
  },
  {
   "cell_type": "code",
   "execution_count": null,
   "id": "4427f4ce",
   "metadata": {},
   "outputs": [],
   "source": [
    "with open('DOWNLOAD.md','r') as file:\n",
    "    dlText = file.read()\n",
    "    print(dlText)\n",
    "    file.close()"
   ]
  },
  {
   "cell_type": "code",
   "execution_count": null,
   "id": "3c908bba",
   "metadata": {},
   "outputs": [],
   "source": [
    "with open('BOTTOM.md','r') as file:\n",
    "    bottomText = file.read()\n",
    "    print(bottomText)\n",
    "    file.close()"
   ]
  },
  {
   "cell_type": "code",
   "execution_count": null,
   "id": "1b592bc4",
   "metadata": {
    "scrolled": true
   },
   "outputs": [],
   "source": [
    "pn.extension()\n",
    "\n",
    "dash3 = pn.Column(title,\n",
    "                pn.Row(map01, mapText),\n",
    "                orgDetailsText,\n",
    "                pn.Row(city_filter,\n",
    "                         pn.Column(RE_filter,REtext),\n",
    "                         lang_filter,\n",
    "                         pn.Column(HTC_filter,\n",
    "                         pn.Row(HTCtext,HTCtext2))),\n",
    "                filter_table,\n",
    "                dlText,\n",
    "                filename,\n",
    "                button,\n",
    "                bottomText).servable()\n"
   ]
  },
  {
   "cell_type": "code",
   "execution_count": null,
   "id": "eed8963c",
   "metadata": {},
   "outputs": [],
   "source": [
    "# run this to view in VSCode\n",
    "# !pip install jupyter_bokeh"
   ]
  },
  {
   "cell_type": "code",
   "execution_count": null,
   "id": "0c94fc8f",
   "metadata": {
    "scrolled": false
   },
   "outputs": [],
   "source": [
    "dash3"
   ]
  }
 ],
 "metadata": {
  "interpreter": {
   "hash": "d69cf63222220a1659bd64eec512a09e712ffff4f5d5165592ca137ff3febd8d"
  },
  "kernelspec": {
   "display_name": "Python 3 (ipykernel)",
   "language": "python",
   "name": "python3"
  },
  "language_info": {
   "codemirror_mode": {
    "name": "ipython",
    "version": 3
   },
   "file_extension": ".py",
   "mimetype": "text/x-python",
   "name": "python",
   "nbconvert_exporter": "python",
   "pygments_lexer": "ipython3",
   "version": "3.8.13"
  }
 },
 "nbformat": 4,
 "nbformat_minor": 5
}
